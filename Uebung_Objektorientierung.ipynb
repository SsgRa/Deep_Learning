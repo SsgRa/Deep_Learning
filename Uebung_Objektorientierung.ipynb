{
  "nbformat": 4,
  "nbformat_minor": 0,
  "metadata": {
    "kernelspec": {
      "display_name": "Python 3",
      "language": "python",
      "name": "python3"
    },
    "language_info": {
      "codemirror_mode": {
        "name": "ipython",
        "version": 3
      },
      "file_extension": ".py",
      "mimetype": "text/x-python",
      "name": "python",
      "nbconvert_exporter": "python",
      "pygments_lexer": "ipython3",
      "version": "3.6.3"
    },
    "colab": {
      "name": "Uebung Objektorientierung.ipynb",
      "provenance": [],
      "include_colab_link": true
    }
  },
  "cells": [
    {
      "cell_type": "markdown",
      "metadata": {
        "id": "view-in-github",
        "colab_type": "text"
      },
      "source": [
        "<a href=\"https://colab.research.google.com/github/SsgRa/Deep_Learning/blob/main/Uebung_Objektorientierung.ipynb\" target=\"_parent\"><img src=\"https://colab.research.google.com/assets/colab-badge.svg\" alt=\"Open In Colab\"/></a>"
      ]
    },
    {
      "cell_type": "markdown",
      "metadata": {
        "id": "t1UGCuvyW8av"
      },
      "source": [
        "# Übung: Objektorientierte Programmierung\n",
        "\n",
        "Anbei findest du ein paar Aufgaben zum Programmieren. Viel Spaß dabei! :)\n",
        "\n",
        "Wenn du mit diesem Übungsblatt fertig bist, kannst du deine Lösung mit der Musterlösung in Textform (Datei: `Uebung Objektorientierung (Musterloesung)`) vergleichen. \n",
        "\n",
        "Die Video-Musterlösung (in der nächsten Lektion) ist besonders ausführlich gehalten. Wenn du alles richtig gelöst hast, ist es vollkommen okay, wenn du diese Lektion dann überspringst."
      ]
    },
    {
      "cell_type": "markdown",
      "metadata": {
        "id": "S-33nQ05W8a4"
      },
      "source": [
        "### Aufgabe 1: Modelliere einen Würfel"
      ]
    },
    {
      "cell_type": "markdown",
      "metadata": {
        "id": "jiTDkt47W8a6"
      },
      "source": [
        "Erstelle eine Klasse _Cube_, mit der du einen Würfel modellierst! Die Würfel-Klasse soll als Eigenschaft die Länge einer Würfel-Seite besitzen. Darüber hinaus soll die Klasse auch zwei Methoden haben: die Methode `volume()` berechnet das Volumen und gibt es aus, die Methode `surface()` berechnet die Oberfläche und gibt sie aus."
      ]
    },
    {
      "cell_type": "code",
      "metadata": {
        "id": "YJyQODt_W8a7",
        "outputId": "78f72f44-6af7-4dee-f199-473a934aafda"
      },
      "source": [
        "class Cube():\n",
        "    def __init__(self, length):\n",
        "      self.length = length\n",
        "\n",
        "    def volume():\n",
        "      \n",
        "        \n",
        "\n",
        "# danach erzeugen wir eine Instanz deiner Cube-Klasse \n",
        "a = Cube(3)\n",
        "\n",
        "# und testen die Methoden\n",
        "a.surface()\n",
        "a.volume()"
      ],
      "execution_count": null,
      "outputs": [
        {
          "name": "stdout",
          "output_type": "stream",
          "text": [
            "54\n",
            "27\n"
          ]
        }
      ]
    },
    {
      "cell_type": "markdown",
      "metadata": {
        "id": "fIH8Y87qW8a_"
      },
      "source": [
        "Erwartete Ausgabe:\n",
        "\n",
        "```\n",
        "54\n",
        "27\n",
        "```"
      ]
    },
    {
      "cell_type": "markdown",
      "metadata": {
        "id": "jF8k7aWSW8bA"
      },
      "source": [
        "### Aufgabe 2: Modelliere ein Kugel"
      ]
    },
    {
      "cell_type": "markdown",
      "metadata": {
        "id": "zsYE4BMwW8bB"
      },
      "source": [
        "Die Kugel-Klasse soll als Eigenschaft den Radius übergeben bekommen. Zudem soll sie - ähnlich wie der Würfel - zwei Methoden haben: `surface()` um den Oberflächeninhalt zu berechnen, `volume()` um das Volumen zu berechnen.\n",
        "\n",
        "Damit du diese Berechnungen durchführen kannst, benötigst du die Kreiszahl Pi. Diese steht dir nach einem `import math` unter `math.pi` zur Verfügung (was der `import` - Befehl genau macht, schauen wir uns noch später im Kurs an).\n",
        "\n",
        "Die Formeln für den Oberflächeninhalt / das Volumen einer Kugel darfst du im Internet nachgucken."
      ]
    },
    {
      "cell_type": "code",
      "metadata": {
        "id": "LFQCx9z6W8bD",
        "outputId": "df5ff707-0242-4f9e-cef4-fd15cfa1c73e"
      },
      "source": [
        "import math\n",
        "print(math.pi)"
      ],
      "execution_count": null,
      "outputs": [
        {
          "name": "stdout",
          "output_type": "stream",
          "text": [
            "3.141592653589793\n"
          ]
        }
      ]
    },
    {
      "cell_type": "code",
      "metadata": {
        "id": "8r_t6PTFW8bF",
        "outputId": "74dc0b49-c61d-4ec2-ac7e-37d5c0c30437"
      },
      "source": [
        "import math\n",
        "\n",
        "class Ball():\n",
        "    # Ergänze hier deinen Code\n",
        "        \n",
        "\n",
        "b = Ball(4)\n",
        "b.surface()\n",
        "b.volume()"
      ],
      "execution_count": null,
      "outputs": [
        {
          "name": "stdout",
          "output_type": "stream",
          "text": [
            "201.06192982974676\n",
            "268.082573106329\n"
          ]
        }
      ]
    },
    {
      "cell_type": "markdown",
      "metadata": {
        "id": "gvd7aDx0W8bH"
      },
      "source": [
        "Erwartete Ausgabe (es reicht, wenn die Zahlenwerte auf ein paar Nachkommastellen genau sind):\n",
        "\n",
        "```\n",
        "201.06192982974676\n",
        "268.082573106329\n",
        "```"
      ]
    },
    {
      "cell_type": "markdown",
      "metadata": {
        "id": "uJJAZvzLW8bI"
      },
      "source": [
        "### Aufgabe 3: Modelliere ein Konto\n",
        "\n",
        "#### a.) \n",
        "\n",
        "Erstelle die Konto-Klasse _Account_ mit der Eigenschaft Kontostand _credits_! Diese Eigenschaft wird mit einem Startkapital initialisiert. Die Methode `display()` soll den aktuellen Kontostand ausgeben. "
      ]
    },
    {
      "cell_type": "code",
      "metadata": {
        "id": "Yn1mhK9rW8bJ",
        "outputId": "15207c84-3d3f-4ca7-c01e-d0d2bee4d45b"
      },
      "source": [
        "class Account():\n",
        "    # Ergänze hier deinen Code\n",
        "        \n",
        "Kunde111 = Account(500)\n",
        "Kunde111.display()"
      ],
      "execution_count": null,
      "outputs": [
        {
          "name": "stdout",
          "output_type": "stream",
          "text": [
            "500\n"
          ]
        }
      ]
    },
    {
      "cell_type": "markdown",
      "metadata": {
        "id": "qhdiNMlaW8bK"
      },
      "source": [
        "Erwartete Ausgabe:\n",
        "\n",
        "```\n",
        "500\n",
        "```"
      ]
    },
    {
      "cell_type": "markdown",
      "metadata": {
        "id": "5LP4TsjqW8bK"
      },
      "source": [
        "**b.)**\n",
        "\n",
        "Ergänze die Klasse _Account_ um zwei Methoden (`pay_in()` zum Einzahlen, `withdraw()` zum Abheben), so dass du Geldbeträge einzahlen und abbuchen kannst, und der Kontostand entsprechend angepasst wird. \n",
        "\n",
        "Du sollst nur Geld abheben können, so lange auch Geld auf dem Konto ist. Ein Dispo-Kredit wird nicht gewährt. In dem Fall soll eine Fehlermeldung ausgegeben werden, in der steht, wieviel Geld maximal abgebucht werden kann."
      ]
    },
    {
      "cell_type": "code",
      "metadata": {
        "id": "xIKk-ZtaW8bL",
        "outputId": "116ecd7e-ca8e-4b00-b835-9a4f15d1022b"
      },
      "source": [
        "class Account():\n",
        "    \n",
        "    # Ergänze hier deinen Code. Du darfst den Code aus a) \n",
        "    # natürlich hierhin übernehmen.\n",
        "    \n",
        "        \n",
        "Kunde111 = Account(500)\n",
        "Kunde111.display()\n",
        "Kunde111.pay_in(40)\n",
        "Kunde111.display()\n",
        "Kunde111.withdraw(25)\n",
        "Kunde111.display()\n",
        "Kunde111.withdraw(600)"
      ],
      "execution_count": null,
      "outputs": [
        {
          "name": "stdout",
          "output_type": "stream",
          "text": [
            "500\n",
            "540\n",
            "515\n",
            "Du kannst nur noch 515€ abheben!\n"
          ]
        }
      ]
    },
    {
      "cell_type": "markdown",
      "metadata": {
        "id": "GonI0UYLW8bM"
      },
      "source": [
        "Erwartete Ausgabe:\n",
        "\n",
        "```\n",
        "500\n",
        "540\n",
        "515\n",
        "Du kannst nur noch 515€ abheben!\n",
        "```"
      ]
    },
    {
      "cell_type": "markdown",
      "metadata": {
        "id": "uk9mz9cFW8bN"
      },
      "source": [
        "**c.)**\n",
        "\n",
        "Bislang ist das Konto noch ungeschützt - wir brauchen eine PIN! Ergänze in der Klasse die Eigenschaft _pin_! So wie mit dem Startkapital soll das Konto auch mit einer PIN initialisiert werden.\n",
        "\n",
        "Von nun an muss man beim Geldabheben nicht nur den Betrag, sondern auch die PIN angeben: Nur wenn die PIN mit der des Kontos übereinstimmt, kann auch Geld abgebucht werden, ansonsten kommt es zu einer Fehlermeldung!"
      ]
    },
    {
      "cell_type": "code",
      "metadata": {
        "id": "4REExVWFW8bN",
        "outputId": "6c1f46f3-8575-45b6-de17-0baaa6cd0a62"
      },
      "source": [
        "class Account():\n",
        "    # Ergänze hier deinen Code. Du darfst den Code aus b) \n",
        "    # natürlich hierhin übernehmen.\n",
        "    \n",
        "        \n",
        "Kunde111 = Account(500, \"1234\")\n",
        "Kunde111.display()\n",
        "Kunde111.pay_in(40)\n",
        "Kunde111.display()\n",
        "Kunde111.withdraw(25, \"1234\")\n",
        "Kunde111.display()\n",
        "Kunde111.withdraw(600, \"12345\")"
      ],
      "execution_count": null,
      "outputs": [
        {
          "name": "stdout",
          "output_type": "stream",
          "text": [
            "500\n",
            "540\n",
            "515\n",
            "Falsche PIN! Konto gesperrt! Du bist verhaftet! Hände hoch!\n"
          ]
        }
      ]
    },
    {
      "cell_type": "markdown",
      "metadata": {
        "id": "JbxnKOwUW8bO"
      },
      "source": [
        "Erwartete Ausgabe:\n",
        "\n",
        "```\n",
        "500\n",
        "540\n",
        "515\n",
        "Falsche PIN! Konto gesperrt! Du bist verhaftet! Hände hoch!\n",
        "```"
      ]
    },
    {
      "cell_type": "markdown",
      "metadata": {
        "id": "09k30n0YW8bP"
      },
      "source": [
        "### Aufgabe 4: Modelliere einen Zug\n",
        "\n",
        "\n",
        "**a.)**\n",
        "\n",
        "Jetzt wirst du Zugobjekte bauen! Erstelle die Klasse _Train_, die mit den Eigenschaften _route_ und _position_ initialisiert wird! Bei _route_ handelt es sich um eine Liste mit den Haltebahnhöfen des Zuges. _position_ steht für den Index des Bahnhofs aus der Liste, an dem sich der Zug gerade befindet bzw. von dem er zuletzt abgefahren ist (wo genau sich der Zug auf der Strecke zwischen zwei Bahnhöfen befindet, interessiert uns hier nicht). Mit der Methode `show_station()` soll der Name dieses Bahnhofs ausgegeben werden."
      ]
    },
    {
      "cell_type": "code",
      "metadata": {
        "id": "oREg8I0AW8bP",
        "outputId": "476a8072-0dd2-4f2e-a470-bcb0fe386105"
      },
      "source": [
        "class Train():\n",
        "    # Ergänze hier deinen Code\n",
        "    \n",
        "orientexpress = Train([\"Paris\", \"Budapest\", \"Bukarest\", \"Istanbul\"], 0)\n",
        "orientexpress.show_station()"
      ],
      "execution_count": null,
      "outputs": [
        {
          "name": "stdout",
          "output_type": "stream",
          "text": [
            "Paris\n"
          ]
        }
      ]
    },
    {
      "cell_type": "markdown",
      "metadata": {
        "id": "TjYKuiYZW8bQ"
      },
      "source": [
        "Erwartete Ausgabe:\n",
        "\n",
        "```\n",
        "Paris\n",
        "```\n"
      ]
    },
    {
      "cell_type": "markdown",
      "metadata": {
        "id": "9T1C-mxsW8bR"
      },
      "source": [
        "**b.)**\n",
        "\n",
        "Bisher sitzt ein Zug der Klasse _Train_ noch in seinem Startbahnhof fest. Ergänze nun zwei Methoden `move()` und `move_back()`, mit denen man einen Zug auf seiner Route zur nächsten bzw. zur vorherigen Station bewegen kann, sofern es diese Station auf der Route gibt. Der Zug darf seine Route nicht verlassen!\n"
      ]
    },
    {
      "cell_type": "code",
      "metadata": {
        "id": "8WWT8ZMBW8bR",
        "outputId": "bef25199-ddac-429c-af40-9423ab35c1e1"
      },
      "source": [
        "class Train():\n",
        "    \n",
        "    # Ergänze hier deinen Code. Du darfst natürlich deinen Code aus\n",
        "    # Teilaufgabe a) hierhin übernehmen.\n",
        "            \n",
        "orientexpress = Train([\"Paris\", \"Budapest\", \"Bukarest\", \"Istanbul\"], 0)\n",
        "orientexpress.show_station()\n",
        "orientexpress.move()\n",
        "orientexpress.show_station()\n",
        "orientexpress.move()\n",
        "orientexpress.show_station()\n",
        "orientexpress.move()\n",
        "orientexpress.show_station()\n",
        "orientexpress.move()\n",
        "orientexpress.move_back()\n",
        "orientexpress.show_station()"
      ],
      "execution_count": null,
      "outputs": [
        {
          "name": "stdout",
          "output_type": "stream",
          "text": [
            "Paris\n",
            "Budapest\n",
            "Bukarest\n",
            "Istanbul\n",
            "Endstation! Alle aussteigen!\n",
            "Bukarest\n"
          ]
        }
      ]
    },
    {
      "cell_type": "markdown",
      "metadata": {
        "id": "cDjTPNw-W8bS"
      },
      "source": [
        "Erwartete Ausgabe:\n",
        "\n",
        "```\n",
        "Paris\n",
        "Budapest\n",
        "Bukarest\n",
        "Istanbul\n",
        "Endstation! Alle aussteigen!\n",
        "Bukarest\n",
        "```"
      ]
    },
    {
      "cell_type": "markdown",
      "metadata": {
        "id": "oMrrLqQdW8bS"
      },
      "source": [
        "**c.)**\n",
        "\n",
        "Die Route soll nachträglich bearbeitet werden können, indem man mit einer Methode `bypass_station()` einen anzugebenden Haltebahnhof von der Route entfernt. Der Zug soll dann sicherheitshalber an den Start der Route versetzt werden, sofern er sich nicht schon dort befindet.\n",
        "\n",
        "**Tipp:** Erinnere dich an die Methoden für Listen! :-)"
      ]
    },
    {
      "cell_type": "code",
      "metadata": {
        "id": "6RJUgKI_W8bT",
        "outputId": "6050f36e-60bc-4d3d-c431-ef15583dee0e"
      },
      "source": [
        "class Train():\n",
        "    \n",
        "    # Ergänze hier deinen Code. Du darfst natürlich deinen Code aus\n",
        "    # Teilaufgabe b) hierhin übernehmen.\n",
        "    \n",
        "            \n",
        "orientexpress = Train([\"Paris\", \"Budapest\", \"Bukarest\", \"Istanbul\"], 0)\n",
        "orientexpress.bypass_station(\"Budapest\")\n",
        "orientexpress.move()\n",
        "orientexpress.show_station()"
      ],
      "execution_count": null,
      "outputs": [
        {
          "name": "stdout",
          "output_type": "stream",
          "text": [
            "Bukarest\n"
          ]
        }
      ]
    },
    {
      "cell_type": "markdown",
      "metadata": {
        "id": "wAWw4OLQW8bT"
      },
      "source": [
        "Erwartete Ausgabe:\n",
        "\n",
        "```\n",
        "Bukarest\n",
        "```"
      ]
    },
    {
      "cell_type": "markdown",
      "metadata": {
        "id": "rity_fz8W8bU"
      },
      "source": [
        "#### Gut gemacht :-) "
      ]
    }
  ]
}